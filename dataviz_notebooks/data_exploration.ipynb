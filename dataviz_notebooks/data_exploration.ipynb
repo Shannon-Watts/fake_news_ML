{
 "cells": [
  {
   "cell_type": "markdown",
   "id": "5a119606-9003-4f01-b79b-f1ed9cb1f437",
   "metadata": {},
   "source": [
    "## Dependancies"
   ]
  },
  {
   "cell_type": "code",
   "execution_count": 1,
   "id": "08fee5f4-6ac9-4b8c-8634-18a209c0edc4",
   "metadata": {},
   "outputs": [],
   "source": [
    "import pandas as pd\n",
    "import datetime\n",
    "import warnings\n",
    "warnings.filterwarnings(\"ignore\")"
   ]
  },
  {
   "cell_type": "markdown",
   "id": "3d5d762d-9e49-4d74-b3a2-01f27a77b0f9",
   "metadata": {},
   "source": [
    "## Import CSV's\n",
    "- Fake CSV\n",
    "- True CSV"
   ]
  },
  {
   "cell_type": "code",
   "execution_count": 2,
   "id": "a9fedb8d-ad71-440c-b43d-94e1da377cf1",
   "metadata": {},
   "outputs": [],
   "source": [
    "fake_news = pd.read_csv('../data/clean-datasets/fake_news.csv')"
   ]
  },
  {
   "cell_type": "code",
   "execution_count": 3,
   "id": "cc8ea22c-95a7-4a9e-bbf3-e33e7c1fb57f",
   "metadata": {
    "tags": []
   },
   "outputs": [
    {
     "data": {
      "text/html": [
       "<div>\n",
       "<style scoped>\n",
       "    .dataframe tbody tr th:only-of-type {\n",
       "        vertical-align: middle;\n",
       "    }\n",
       "\n",
       "    .dataframe tbody tr th {\n",
       "        vertical-align: top;\n",
       "    }\n",
       "\n",
       "    .dataframe thead th {\n",
       "        text-align: right;\n",
       "    }\n",
       "</style>\n",
       "<table border=\"1\" class=\"dataframe\">\n",
       "  <thead>\n",
       "    <tr style=\"text-align: right;\">\n",
       "      <th></th>\n",
       "      <th>title</th>\n",
       "      <th>text</th>\n",
       "      <th>subject</th>\n",
       "      <th>date</th>\n",
       "      <th>year</th>\n",
       "    </tr>\n",
       "  </thead>\n",
       "  <tbody>\n",
       "    <tr>\n",
       "      <th>0</th>\n",
       "      <td>JUST IN: CROOKED DOJ OFFICIAL Didn’t Reveal Th...</td>\n",
       "      <td>We ve been covering the curious case of DOJ of...</td>\n",
       "      <td>politics</td>\n",
       "      <td>2018-02-14</td>\n",
       "      <td>2018</td>\n",
       "    </tr>\n",
       "    <tr>\n",
       "      <th>1</th>\n",
       "      <td>POLITICS FIRST: LEFTIST PARENTS Of Former Comb...</td>\n",
       "      <td>The heartbreaking story of two parents who put...</td>\n",
       "      <td>politics</td>\n",
       "      <td>2018-02-15</td>\n",
       "      <td>2018</td>\n",
       "    </tr>\n",
       "    <tr>\n",
       "      <th>2</th>\n",
       "      <td>TWO HIGH SCHOOL JROTC Members Tell INCREDIBLE ...</td>\n",
       "      <td>ABC News  When two Marjory Stoneman Douglas Hi...</td>\n",
       "      <td>politics</td>\n",
       "      <td>2018-02-15</td>\n",
       "      <td>2018</td>\n",
       "    </tr>\n",
       "    <tr>\n",
       "      <th>3</th>\n",
       "      <td>MEDIA PROMOTES Fake News That Shooter Connecte...</td>\n",
       "      <td>The mainstream media is guilty of fake news wh...</td>\n",
       "      <td>politics</td>\n",
       "      <td>2018-02-15</td>\n",
       "      <td>2018</td>\n",
       "    </tr>\n",
       "    <tr>\n",
       "      <th>4</th>\n",
       "      <td>WHAT’S WRONG WITH PELOSI? Nancy Stutters, Stam...</td>\n",
       "      <td>What s wrong with Pelosi? Nancy Pelosi is supp...</td>\n",
       "      <td>politics</td>\n",
       "      <td>2018-02-15</td>\n",
       "      <td>2018</td>\n",
       "    </tr>\n",
       "  </tbody>\n",
       "</table>\n",
       "</div>"
      ],
      "text/plain": [
       "                                               title  \\\n",
       "0  JUST IN: CROOKED DOJ OFFICIAL Didn’t Reveal Th...   \n",
       "1  POLITICS FIRST: LEFTIST PARENTS Of Former Comb...   \n",
       "2  TWO HIGH SCHOOL JROTC Members Tell INCREDIBLE ...   \n",
       "3  MEDIA PROMOTES Fake News That Shooter Connecte...   \n",
       "4  WHAT’S WRONG WITH PELOSI? Nancy Stutters, Stam...   \n",
       "\n",
       "                                                text   subject        date  \\\n",
       "0  We ve been covering the curious case of DOJ of...  politics  2018-02-14   \n",
       "1  The heartbreaking story of two parents who put...  politics  2018-02-15   \n",
       "2  ABC News  When two Marjory Stoneman Douglas Hi...  politics  2018-02-15   \n",
       "3  The mainstream media is guilty of fake news wh...  politics  2018-02-15   \n",
       "4  What s wrong with Pelosi? Nancy Pelosi is supp...  politics  2018-02-15   \n",
       "\n",
       "   year  \n",
       "0  2018  \n",
       "1  2018  \n",
       "2  2018  \n",
       "3  2018  \n",
       "4  2018  "
      ]
     },
     "execution_count": 3,
     "metadata": {},
     "output_type": "execute_result"
    }
   ],
   "source": [
    "fake_news.head()"
   ]
  },
  {
   "cell_type": "code",
   "execution_count": 4,
   "id": "777cef8c-1dd8-44da-ad46-466ab7d1bbd5",
   "metadata": {},
   "outputs": [],
   "source": [
    "true_news = pd.read_csv('../data/kaggle/True.csv')"
   ]
  },
  {
   "cell_type": "code",
   "execution_count": 5,
   "id": "da4e91d2-d21c-46a0-b8dc-eed39bbf9ad9",
   "metadata": {
    "tags": []
   },
   "outputs": [
    {
     "data": {
      "text/html": [
       "<div>\n",
       "<style scoped>\n",
       "    .dataframe tbody tr th:only-of-type {\n",
       "        vertical-align: middle;\n",
       "    }\n",
       "\n",
       "    .dataframe tbody tr th {\n",
       "        vertical-align: top;\n",
       "    }\n",
       "\n",
       "    .dataframe thead th {\n",
       "        text-align: right;\n",
       "    }\n",
       "</style>\n",
       "<table border=\"1\" class=\"dataframe\">\n",
       "  <thead>\n",
       "    <tr style=\"text-align: right;\">\n",
       "      <th></th>\n",
       "      <th>title</th>\n",
       "      <th>text</th>\n",
       "      <th>subject</th>\n",
       "      <th>date</th>\n",
       "    </tr>\n",
       "  </thead>\n",
       "  <tbody>\n",
       "    <tr>\n",
       "      <th>0</th>\n",
       "      <td>As U.S. budget fight looms, Republicans flip t...</td>\n",
       "      <td>WASHINGTON (Reuters) - The head of a conservat...</td>\n",
       "      <td>politicsNews</td>\n",
       "      <td>December 31, 2017</td>\n",
       "    </tr>\n",
       "    <tr>\n",
       "      <th>1</th>\n",
       "      <td>U.S. military to accept transgender recruits o...</td>\n",
       "      <td>WASHINGTON (Reuters) - Transgender people will...</td>\n",
       "      <td>politicsNews</td>\n",
       "      <td>December 29, 2017</td>\n",
       "    </tr>\n",
       "    <tr>\n",
       "      <th>2</th>\n",
       "      <td>Senior U.S. Republican senator: 'Let Mr. Muell...</td>\n",
       "      <td>WASHINGTON (Reuters) - The special counsel inv...</td>\n",
       "      <td>politicsNews</td>\n",
       "      <td>December 31, 2017</td>\n",
       "    </tr>\n",
       "    <tr>\n",
       "      <th>3</th>\n",
       "      <td>FBI Russia probe helped by Australian diplomat...</td>\n",
       "      <td>WASHINGTON (Reuters) - Trump campaign adviser ...</td>\n",
       "      <td>politicsNews</td>\n",
       "      <td>December 30, 2017</td>\n",
       "    </tr>\n",
       "    <tr>\n",
       "      <th>4</th>\n",
       "      <td>Trump wants Postal Service to charge 'much mor...</td>\n",
       "      <td>SEATTLE/WASHINGTON (Reuters) - President Donal...</td>\n",
       "      <td>politicsNews</td>\n",
       "      <td>December 29, 2017</td>\n",
       "    </tr>\n",
       "  </tbody>\n",
       "</table>\n",
       "</div>"
      ],
      "text/plain": [
       "                                               title  \\\n",
       "0  As U.S. budget fight looms, Republicans flip t...   \n",
       "1  U.S. military to accept transgender recruits o...   \n",
       "2  Senior U.S. Republican senator: 'Let Mr. Muell...   \n",
       "3  FBI Russia probe helped by Australian diplomat...   \n",
       "4  Trump wants Postal Service to charge 'much mor...   \n",
       "\n",
       "                                                text       subject  \\\n",
       "0  WASHINGTON (Reuters) - The head of a conservat...  politicsNews   \n",
       "1  WASHINGTON (Reuters) - Transgender people will...  politicsNews   \n",
       "2  WASHINGTON (Reuters) - The special counsel inv...  politicsNews   \n",
       "3  WASHINGTON (Reuters) - Trump campaign adviser ...  politicsNews   \n",
       "4  SEATTLE/WASHINGTON (Reuters) - President Donal...  politicsNews   \n",
       "\n",
       "                 date  \n",
       "0  December 31, 2017   \n",
       "1  December 29, 2017   \n",
       "2  December 31, 2017   \n",
       "3  December 30, 2017   \n",
       "4  December 29, 2017   "
      ]
     },
     "execution_count": 5,
     "metadata": {},
     "output_type": "execute_result"
    }
   ],
   "source": [
    "true_news.head()"
   ]
  },
  {
   "cell_type": "markdown",
   "id": "feed7d6c-84b1-4b8c-b196-ee52d843c21a",
   "metadata": {},
   "source": [
    "## Fake News - Data Exploration"
   ]
  },
  {
   "cell_type": "code",
   "execution_count": 6,
   "id": "91bfbd0d-59e2-4a4f-b1f9-f4900381af2d",
   "metadata": {},
   "outputs": [
    {
     "name": "stdout",
     "output_type": "stream",
     "text": [
      "<class 'pandas.core.frame.DataFrame'>\n",
      "RangeIndex: 23471 entries, 0 to 23470\n",
      "Data columns (total 5 columns):\n",
      " #   Column   Non-Null Count  Dtype \n",
      "---  ------   --------------  ----- \n",
      " 0   title    23471 non-null  object\n",
      " 1   text     23471 non-null  object\n",
      " 2   subject  23471 non-null  object\n",
      " 3   date     23471 non-null  object\n",
      " 4   year     23471 non-null  int64 \n",
      "dtypes: int64(1), object(4)\n",
      "memory usage: 917.0+ KB\n"
     ]
    }
   ],
   "source": [
    "fake_news.info()"
   ]
  },
  {
   "cell_type": "code",
   "execution_count": 7,
   "id": "7f190f08-ecaf-4ea8-83a0-1cad6a662df3",
   "metadata": {},
   "outputs": [
    {
     "data": {
      "text/plain": [
       "(23471, 5)"
      ]
     },
     "execution_count": 7,
     "metadata": {},
     "output_type": "execute_result"
    }
   ],
   "source": [
    "fake_news.shape"
   ]
  },
  {
   "cell_type": "code",
   "execution_count": 8,
   "id": "3cdc80a8-1fb2-4406-b8e6-47903eb4e24b",
   "metadata": {},
   "outputs": [
    {
     "data": {
      "text/plain": [
       "title      0\n",
       "text       0\n",
       "subject    0\n",
       "date       0\n",
       "year       0\n",
       "dtype: int64"
      ]
     },
     "execution_count": 8,
     "metadata": {},
     "output_type": "execute_result"
    }
   ],
   "source": [
    "fake_news.isnull().sum()"
   ]
  },
  {
   "cell_type": "code",
   "execution_count": 9,
   "id": "30d22e40-efff-478a-96ed-6b184d92fef4",
   "metadata": {},
   "outputs": [],
   "source": [
    "# If null values were found in dataset - dropna would of been used \n",
    "# fake_news.dropna(inplace=True)"
   ]
  },
  {
   "cell_type": "code",
   "execution_count": 10,
   "id": "6f9c5256-58ee-400e-b16b-35e635c8f6d1",
   "metadata": {},
   "outputs": [],
   "source": [
    "# Sort by date column\n",
    "fake_news = fake_news.sort_values(by=\"date\")"
   ]
  },
  {
   "cell_type": "code",
   "execution_count": 11,
   "id": "91079cd8-6d36-46ed-b29b-59da614dd9e9",
   "metadata": {},
   "outputs": [
    {
     "data": {
      "text/html": [
       "<div>\n",
       "<style scoped>\n",
       "    .dataframe tbody tr th:only-of-type {\n",
       "        vertical-align: middle;\n",
       "    }\n",
       "\n",
       "    .dataframe tbody tr th {\n",
       "        vertical-align: top;\n",
       "    }\n",
       "\n",
       "    .dataframe thead th {\n",
       "        text-align: right;\n",
       "    }\n",
       "</style>\n",
       "<table border=\"1\" class=\"dataframe\">\n",
       "  <thead>\n",
       "    <tr style=\"text-align: right;\">\n",
       "      <th></th>\n",
       "      <th>title</th>\n",
       "      <th>text</th>\n",
       "      <th>subject</th>\n",
       "      <th>date</th>\n",
       "      <th>year</th>\n",
       "    </tr>\n",
       "  </thead>\n",
       "  <tbody>\n",
       "    <tr>\n",
       "      <th>14341</th>\n",
       "      <td>HILLARY RODHAM NIXON: A CANDIDATE WITH MORE BA...</td>\n",
       "      <td>The irony here isn t lost on us. Hillary is be...</td>\n",
       "      <td>left-news</td>\n",
       "      <td>2015-03-31</td>\n",
       "      <td>2015</td>\n",
       "    </tr>\n",
       "    <tr>\n",
       "      <th>14342</th>\n",
       "      <td>WATCH DIRTY HARRY REID ON HIS LIE ABOUT ROMNEY...</td>\n",
       "      <td>In case you missed it Sen. Harry Reid (R-NV), ...</td>\n",
       "      <td>left-news</td>\n",
       "      <td>2015-03-31</td>\n",
       "      <td>2015</td>\n",
       "    </tr>\n",
       "    <tr>\n",
       "      <th>14343</th>\n",
       "      <td>HILLARY RODHAM NIXON: A CANDIDATE WITH MORE BA...</td>\n",
       "      <td>The irony here isn t lost on us. Hillary is be...</td>\n",
       "      <td>politics</td>\n",
       "      <td>2015-03-31</td>\n",
       "      <td>2015</td>\n",
       "    </tr>\n",
       "    <tr>\n",
       "      <th>14344</th>\n",
       "      <td>FLASHBACK: KING OBAMA COMMUTES SENTENCES OF 22...</td>\n",
       "      <td>Just making room for Hillary President Obama t...</td>\n",
       "      <td>politics</td>\n",
       "      <td>2015-03-31</td>\n",
       "      <td>2015</td>\n",
       "    </tr>\n",
       "    <tr>\n",
       "      <th>14345</th>\n",
       "      <td>APPLE’S CEO SAYS RELIGIOUS FREEDOM LAWS ARE ‘D...</td>\n",
       "      <td>The gay mafia has a new corporate  Don. This i...</td>\n",
       "      <td>politics</td>\n",
       "      <td>2015-03-31</td>\n",
       "      <td>2015</td>\n",
       "    </tr>\n",
       "    <tr>\n",
       "      <th>...</th>\n",
       "      <td>...</td>\n",
       "      <td>...</td>\n",
       "      <td>...</td>\n",
       "      <td>...</td>\n",
       "      <td>...</td>\n",
       "    </tr>\n",
       "    <tr>\n",
       "      <th>30</th>\n",
       "      <td>JUST IN: BADASS GENERAL JOHN KELLY Shoved Chin...</td>\n",
       "      <td>Just one more reminder of why President Trump ...</td>\n",
       "      <td>politics</td>\n",
       "      <td>2018-02-18</td>\n",
       "      <td>2018</td>\n",
       "    </tr>\n",
       "    <tr>\n",
       "      <th>31</th>\n",
       "      <td>IT BEGINS…RINO MEGA-DONOR Threatens Jeb Bush: ...</td>\n",
       "      <td>A longtime Republican Party donor based in Flo...</td>\n",
       "      <td>politics</td>\n",
       "      <td>2018-02-18</td>\n",
       "      <td>2018</td>\n",
       "    </tr>\n",
       "    <tr>\n",
       "      <th>34</th>\n",
       "      <td>WATCH: SNOWFLAKES ASKED Communist Party Platfo...</td>\n",
       "      <td>Ami Horowitz is fantastic! Check out this man ...</td>\n",
       "      <td>politics</td>\n",
       "      <td>2018-02-19</td>\n",
       "      <td>2018</td>\n",
       "    </tr>\n",
       "    <tr>\n",
       "      <th>33</th>\n",
       "      <td>MSNBC ANCHOR Flabbergasted at What Texas Teach...</td>\n",
       "      <td>If we protect every other government building ...</td>\n",
       "      <td>politics</td>\n",
       "      <td>2018-02-19</td>\n",
       "      <td>2018</td>\n",
       "    </tr>\n",
       "    <tr>\n",
       "      <th>32</th>\n",
       "      <td>Democrat Senator Warns Mueller Not To Release ...</td>\n",
       "      <td>According to The Hill, Democrat Senator Bob Ca...</td>\n",
       "      <td>politics</td>\n",
       "      <td>2018-02-19</td>\n",
       "      <td>2018</td>\n",
       "    </tr>\n",
       "  </tbody>\n",
       "</table>\n",
       "<p>23471 rows × 5 columns</p>\n",
       "</div>"
      ],
      "text/plain": [
       "                                                   title  \\\n",
       "14341  HILLARY RODHAM NIXON: A CANDIDATE WITH MORE BA...   \n",
       "14342  WATCH DIRTY HARRY REID ON HIS LIE ABOUT ROMNEY...   \n",
       "14343  HILLARY RODHAM NIXON: A CANDIDATE WITH MORE BA...   \n",
       "14344  FLASHBACK: KING OBAMA COMMUTES SENTENCES OF 22...   \n",
       "14345  APPLE’S CEO SAYS RELIGIOUS FREEDOM LAWS ARE ‘D...   \n",
       "...                                                  ...   \n",
       "30     JUST IN: BADASS GENERAL JOHN KELLY Shoved Chin...   \n",
       "31     IT BEGINS…RINO MEGA-DONOR Threatens Jeb Bush: ...   \n",
       "34     WATCH: SNOWFLAKES ASKED Communist Party Platfo...   \n",
       "33     MSNBC ANCHOR Flabbergasted at What Texas Teach...   \n",
       "32     Democrat Senator Warns Mueller Not To Release ...   \n",
       "\n",
       "                                                    text    subject  \\\n",
       "14341  The irony here isn t lost on us. Hillary is be...  left-news   \n",
       "14342  In case you missed it Sen. Harry Reid (R-NV), ...  left-news   \n",
       "14343  The irony here isn t lost on us. Hillary is be...   politics   \n",
       "14344  Just making room for Hillary President Obama t...   politics   \n",
       "14345  The gay mafia has a new corporate  Don. This i...   politics   \n",
       "...                                                  ...        ...   \n",
       "30     Just one more reminder of why President Trump ...   politics   \n",
       "31     A longtime Republican Party donor based in Flo...   politics   \n",
       "34     Ami Horowitz is fantastic! Check out this man ...   politics   \n",
       "33     If we protect every other government building ...   politics   \n",
       "32     According to The Hill, Democrat Senator Bob Ca...   politics   \n",
       "\n",
       "             date  year  \n",
       "14341  2015-03-31  2015  \n",
       "14342  2015-03-31  2015  \n",
       "14343  2015-03-31  2015  \n",
       "14344  2015-03-31  2015  \n",
       "14345  2015-03-31  2015  \n",
       "...           ...   ...  \n",
       "30     2018-02-18  2018  \n",
       "31     2018-02-18  2018  \n",
       "34     2018-02-19  2018  \n",
       "33     2018-02-19  2018  \n",
       "32     2018-02-19  2018  \n",
       "\n",
       "[23471 rows x 5 columns]"
      ]
     },
     "execution_count": 11,
     "metadata": {},
     "output_type": "execute_result"
    }
   ],
   "source": [
    "fake_news"
   ]
  },
  {
   "cell_type": "code",
   "execution_count": 12,
   "id": "84a8125a-0340-447c-9dff-575d726dfe89",
   "metadata": {},
   "outputs": [],
   "source": [
    "# Drop specific string from date row\n",
    "fake_news_df = fake_news[fake_news['date'].str.contains(\"https\")==False]"
   ]
  },
  {
   "cell_type": "code",
   "execution_count": 13,
   "id": "4db086a7-9bf2-4d07-ac74-dc05704177bf",
   "metadata": {
    "tags": []
   },
   "outputs": [
    {
     "data": {
      "text/html": [
       "<div>\n",
       "<style scoped>\n",
       "    .dataframe tbody tr th:only-of-type {\n",
       "        vertical-align: middle;\n",
       "    }\n",
       "\n",
       "    .dataframe tbody tr th {\n",
       "        vertical-align: top;\n",
       "    }\n",
       "\n",
       "    .dataframe thead th {\n",
       "        text-align: right;\n",
       "    }\n",
       "</style>\n",
       "<table border=\"1\" class=\"dataframe\">\n",
       "  <thead>\n",
       "    <tr style=\"text-align: right;\">\n",
       "      <th></th>\n",
       "      <th>title</th>\n",
       "      <th>text</th>\n",
       "      <th>subject</th>\n",
       "      <th>date</th>\n",
       "      <th>year</th>\n",
       "    </tr>\n",
       "  </thead>\n",
       "  <tbody>\n",
       "    <tr>\n",
       "      <th>14341</th>\n",
       "      <td>HILLARY RODHAM NIXON: A CANDIDATE WITH MORE BA...</td>\n",
       "      <td>The irony here isn t lost on us. Hillary is be...</td>\n",
       "      <td>left-news</td>\n",
       "      <td>2015-03-31</td>\n",
       "      <td>2015</td>\n",
       "    </tr>\n",
       "    <tr>\n",
       "      <th>14342</th>\n",
       "      <td>WATCH DIRTY HARRY REID ON HIS LIE ABOUT ROMNEY...</td>\n",
       "      <td>In case you missed it Sen. Harry Reid (R-NV), ...</td>\n",
       "      <td>left-news</td>\n",
       "      <td>2015-03-31</td>\n",
       "      <td>2015</td>\n",
       "    </tr>\n",
       "    <tr>\n",
       "      <th>14343</th>\n",
       "      <td>HILLARY RODHAM NIXON: A CANDIDATE WITH MORE BA...</td>\n",
       "      <td>The irony here isn t lost on us. Hillary is be...</td>\n",
       "      <td>politics</td>\n",
       "      <td>2015-03-31</td>\n",
       "      <td>2015</td>\n",
       "    </tr>\n",
       "    <tr>\n",
       "      <th>14344</th>\n",
       "      <td>FLASHBACK: KING OBAMA COMMUTES SENTENCES OF 22...</td>\n",
       "      <td>Just making room for Hillary President Obama t...</td>\n",
       "      <td>politics</td>\n",
       "      <td>2015-03-31</td>\n",
       "      <td>2015</td>\n",
       "    </tr>\n",
       "    <tr>\n",
       "      <th>14345</th>\n",
       "      <td>APPLE’S CEO SAYS RELIGIOUS FREEDOM LAWS ARE ‘D...</td>\n",
       "      <td>The gay mafia has a new corporate  Don. This i...</td>\n",
       "      <td>politics</td>\n",
       "      <td>2015-03-31</td>\n",
       "      <td>2015</td>\n",
       "    </tr>\n",
       "    <tr>\n",
       "      <th>...</th>\n",
       "      <td>...</td>\n",
       "      <td>...</td>\n",
       "      <td>...</td>\n",
       "      <td>...</td>\n",
       "      <td>...</td>\n",
       "    </tr>\n",
       "    <tr>\n",
       "      <th>30</th>\n",
       "      <td>JUST IN: BADASS GENERAL JOHN KELLY Shoved Chin...</td>\n",
       "      <td>Just one more reminder of why President Trump ...</td>\n",
       "      <td>politics</td>\n",
       "      <td>2018-02-18</td>\n",
       "      <td>2018</td>\n",
       "    </tr>\n",
       "    <tr>\n",
       "      <th>31</th>\n",
       "      <td>IT BEGINS…RINO MEGA-DONOR Threatens Jeb Bush: ...</td>\n",
       "      <td>A longtime Republican Party donor based in Flo...</td>\n",
       "      <td>politics</td>\n",
       "      <td>2018-02-18</td>\n",
       "      <td>2018</td>\n",
       "    </tr>\n",
       "    <tr>\n",
       "      <th>34</th>\n",
       "      <td>WATCH: SNOWFLAKES ASKED Communist Party Platfo...</td>\n",
       "      <td>Ami Horowitz is fantastic! Check out this man ...</td>\n",
       "      <td>politics</td>\n",
       "      <td>2018-02-19</td>\n",
       "      <td>2018</td>\n",
       "    </tr>\n",
       "    <tr>\n",
       "      <th>33</th>\n",
       "      <td>MSNBC ANCHOR Flabbergasted at What Texas Teach...</td>\n",
       "      <td>If we protect every other government building ...</td>\n",
       "      <td>politics</td>\n",
       "      <td>2018-02-19</td>\n",
       "      <td>2018</td>\n",
       "    </tr>\n",
       "    <tr>\n",
       "      <th>32</th>\n",
       "      <td>Democrat Senator Warns Mueller Not To Release ...</td>\n",
       "      <td>According to The Hill, Democrat Senator Bob Ca...</td>\n",
       "      <td>politics</td>\n",
       "      <td>2018-02-19</td>\n",
       "      <td>2018</td>\n",
       "    </tr>\n",
       "  </tbody>\n",
       "</table>\n",
       "<p>23471 rows × 5 columns</p>\n",
       "</div>"
      ],
      "text/plain": [
       "                                                   title  \\\n",
       "14341  HILLARY RODHAM NIXON: A CANDIDATE WITH MORE BA...   \n",
       "14342  WATCH DIRTY HARRY REID ON HIS LIE ABOUT ROMNEY...   \n",
       "14343  HILLARY RODHAM NIXON: A CANDIDATE WITH MORE BA...   \n",
       "14344  FLASHBACK: KING OBAMA COMMUTES SENTENCES OF 22...   \n",
       "14345  APPLE’S CEO SAYS RELIGIOUS FREEDOM LAWS ARE ‘D...   \n",
       "...                                                  ...   \n",
       "30     JUST IN: BADASS GENERAL JOHN KELLY Shoved Chin...   \n",
       "31     IT BEGINS…RINO MEGA-DONOR Threatens Jeb Bush: ...   \n",
       "34     WATCH: SNOWFLAKES ASKED Communist Party Platfo...   \n",
       "33     MSNBC ANCHOR Flabbergasted at What Texas Teach...   \n",
       "32     Democrat Senator Warns Mueller Not To Release ...   \n",
       "\n",
       "                                                    text    subject  \\\n",
       "14341  The irony here isn t lost on us. Hillary is be...  left-news   \n",
       "14342  In case you missed it Sen. Harry Reid (R-NV), ...  left-news   \n",
       "14343  The irony here isn t lost on us. Hillary is be...   politics   \n",
       "14344  Just making room for Hillary President Obama t...   politics   \n",
       "14345  The gay mafia has a new corporate  Don. This i...   politics   \n",
       "...                                                  ...        ...   \n",
       "30     Just one more reminder of why President Trump ...   politics   \n",
       "31     A longtime Republican Party donor based in Flo...   politics   \n",
       "34     Ami Horowitz is fantastic! Check out this man ...   politics   \n",
       "33     If we protect every other government building ...   politics   \n",
       "32     According to The Hill, Democrat Senator Bob Ca...   politics   \n",
       "\n",
       "             date  year  \n",
       "14341  2015-03-31  2015  \n",
       "14342  2015-03-31  2015  \n",
       "14343  2015-03-31  2015  \n",
       "14344  2015-03-31  2015  \n",
       "14345  2015-03-31  2015  \n",
       "...           ...   ...  \n",
       "30     2018-02-18  2018  \n",
       "31     2018-02-18  2018  \n",
       "34     2018-02-19  2018  \n",
       "33     2018-02-19  2018  \n",
       "32     2018-02-19  2018  \n",
       "\n",
       "[23471 rows x 5 columns]"
      ]
     },
     "execution_count": 13,
     "metadata": {},
     "output_type": "execute_result"
    }
   ],
   "source": [
    "# Check dataframes\n",
    "fake_news_df"
   ]
  },
  {
   "cell_type": "code",
   "execution_count": 14,
   "id": "988829c9-abf9-4dee-97c1-de9878170b81",
   "metadata": {},
   "outputs": [],
   "source": [
    "# Drop remaining strings from date column\n",
    "fake_news_df = fake_news_df[fake_news_df['date'].str.contains(\"Never\")==False]"
   ]
  },
  {
   "cell_type": "code",
   "execution_count": 15,
   "id": "e97223a3-dca7-43e5-9272-999674aa00db",
   "metadata": {},
   "outputs": [
    {
     "data": {
      "text/plain": [
       "(23471, 5)"
      ]
     },
     "execution_count": 15,
     "metadata": {},
     "output_type": "execute_result"
    }
   ],
   "source": [
    "fake_news_df.shape"
   ]
  },
  {
   "cell_type": "code",
   "execution_count": 16,
   "id": "af7787b8-e7a1-45c3-97a6-e1999331e85b",
   "metadata": {
    "tags": []
   },
   "outputs": [],
   "source": [
    "# Format date column\n",
    "fake_news_df[\"date\"]=pd.to_datetime(fake_news_df[\"date\"])"
   ]
  },
  {
   "cell_type": "code",
   "execution_count": 17,
   "id": "4c709d10-0e34-4f6b-a9ec-7221ddfcd305",
   "metadata": {
    "tags": []
   },
   "outputs": [
    {
     "data": {
      "text/plain": [
       "title              object\n",
       "text               object\n",
       "subject            object\n",
       "date       datetime64[ns]\n",
       "year                int64\n",
       "dtype: object"
      ]
     },
     "execution_count": 17,
     "metadata": {},
     "output_type": "execute_result"
    }
   ],
   "source": [
    "fake_news_df.dtypes"
   ]
  },
  {
   "cell_type": "code",
   "execution_count": 18,
   "id": "dc966692-d343-4e5f-93a8-7e317101f52f",
   "metadata": {
    "tags": []
   },
   "outputs": [
    {
     "data": {
      "text/html": [
       "<div>\n",
       "<style scoped>\n",
       "    .dataframe tbody tr th:only-of-type {\n",
       "        vertical-align: middle;\n",
       "    }\n",
       "\n",
       "    .dataframe tbody tr th {\n",
       "        vertical-align: top;\n",
       "    }\n",
       "\n",
       "    .dataframe thead th {\n",
       "        text-align: right;\n",
       "    }\n",
       "</style>\n",
       "<table border=\"1\" class=\"dataframe\">\n",
       "  <thead>\n",
       "    <tr style=\"text-align: right;\">\n",
       "      <th></th>\n",
       "      <th>title</th>\n",
       "      <th>text</th>\n",
       "      <th>subject</th>\n",
       "      <th>date</th>\n",
       "      <th>year</th>\n",
       "    </tr>\n",
       "  </thead>\n",
       "  <tbody>\n",
       "    <tr>\n",
       "      <th>14341</th>\n",
       "      <td>HILLARY RODHAM NIXON: A CANDIDATE WITH MORE BA...</td>\n",
       "      <td>The irony here isn t lost on us. Hillary is be...</td>\n",
       "      <td>left-news</td>\n",
       "      <td>2015-03-31</td>\n",
       "      <td>2015</td>\n",
       "    </tr>\n",
       "    <tr>\n",
       "      <th>14342</th>\n",
       "      <td>WATCH DIRTY HARRY REID ON HIS LIE ABOUT ROMNEY...</td>\n",
       "      <td>In case you missed it Sen. Harry Reid (R-NV), ...</td>\n",
       "      <td>left-news</td>\n",
       "      <td>2015-03-31</td>\n",
       "      <td>2015</td>\n",
       "    </tr>\n",
       "    <tr>\n",
       "      <th>14343</th>\n",
       "      <td>HILLARY RODHAM NIXON: A CANDIDATE WITH MORE BA...</td>\n",
       "      <td>The irony here isn t lost on us. Hillary is be...</td>\n",
       "      <td>politics</td>\n",
       "      <td>2015-03-31</td>\n",
       "      <td>2015</td>\n",
       "    </tr>\n",
       "    <tr>\n",
       "      <th>14344</th>\n",
       "      <td>FLASHBACK: KING OBAMA COMMUTES SENTENCES OF 22...</td>\n",
       "      <td>Just making room for Hillary President Obama t...</td>\n",
       "      <td>politics</td>\n",
       "      <td>2015-03-31</td>\n",
       "      <td>2015</td>\n",
       "    </tr>\n",
       "    <tr>\n",
       "      <th>14345</th>\n",
       "      <td>APPLE’S CEO SAYS RELIGIOUS FREEDOM LAWS ARE ‘D...</td>\n",
       "      <td>The gay mafia has a new corporate  Don. This i...</td>\n",
       "      <td>politics</td>\n",
       "      <td>2015-03-31</td>\n",
       "      <td>2015</td>\n",
       "    </tr>\n",
       "  </tbody>\n",
       "</table>\n",
       "</div>"
      ],
      "text/plain": [
       "                                                   title  \\\n",
       "14341  HILLARY RODHAM NIXON: A CANDIDATE WITH MORE BA...   \n",
       "14342  WATCH DIRTY HARRY REID ON HIS LIE ABOUT ROMNEY...   \n",
       "14343  HILLARY RODHAM NIXON: A CANDIDATE WITH MORE BA...   \n",
       "14344  FLASHBACK: KING OBAMA COMMUTES SENTENCES OF 22...   \n",
       "14345  APPLE’S CEO SAYS RELIGIOUS FREEDOM LAWS ARE ‘D...   \n",
       "\n",
       "                                                    text    subject  \\\n",
       "14341  The irony here isn t lost on us. Hillary is be...  left-news   \n",
       "14342  In case you missed it Sen. Harry Reid (R-NV), ...  left-news   \n",
       "14343  The irony here isn t lost on us. Hillary is be...   politics   \n",
       "14344  Just making room for Hillary President Obama t...   politics   \n",
       "14345  The gay mafia has a new corporate  Don. This i...   politics   \n",
       "\n",
       "            date  year  \n",
       "14341 2015-03-31  2015  \n",
       "14342 2015-03-31  2015  \n",
       "14343 2015-03-31  2015  \n",
       "14344 2015-03-31  2015  \n",
       "14345 2015-03-31  2015  "
      ]
     },
     "execution_count": 18,
     "metadata": {},
     "output_type": "execute_result"
    }
   ],
   "source": [
    "# Preview date change\n",
    "fake_news_df.head(5)"
   ]
  },
  {
   "cell_type": "code",
   "execution_count": 19,
   "id": "5c6861a3-a3ea-48e4-9d8c-11237938b423",
   "metadata": {
    "tags": []
   },
   "outputs": [],
   "source": [
    "# Split date column into year\n",
    "fake_news_df['year'] = fake_news_df['date'].dt.year"
   ]
  },
  {
   "cell_type": "code",
   "execution_count": 20,
   "id": "d4bde5dd-228b-4bf6-b47f-e121573bf39e",
   "metadata": {},
   "outputs": [
    {
     "data": {
      "text/html": [
       "<div>\n",
       "<style scoped>\n",
       "    .dataframe tbody tr th:only-of-type {\n",
       "        vertical-align: middle;\n",
       "    }\n",
       "\n",
       "    .dataframe tbody tr th {\n",
       "        vertical-align: top;\n",
       "    }\n",
       "\n",
       "    .dataframe thead th {\n",
       "        text-align: right;\n",
       "    }\n",
       "</style>\n",
       "<table border=\"1\" class=\"dataframe\">\n",
       "  <thead>\n",
       "    <tr style=\"text-align: right;\">\n",
       "      <th></th>\n",
       "      <th>title</th>\n",
       "      <th>text</th>\n",
       "      <th>subject</th>\n",
       "      <th>date</th>\n",
       "      <th>year</th>\n",
       "    </tr>\n",
       "  </thead>\n",
       "  <tbody>\n",
       "    <tr>\n",
       "      <th>14341</th>\n",
       "      <td>HILLARY RODHAM NIXON: A CANDIDATE WITH MORE BA...</td>\n",
       "      <td>The irony here isn t lost on us. Hillary is be...</td>\n",
       "      <td>left-news</td>\n",
       "      <td>2015-03-31</td>\n",
       "      <td>2015</td>\n",
       "    </tr>\n",
       "    <tr>\n",
       "      <th>14342</th>\n",
       "      <td>WATCH DIRTY HARRY REID ON HIS LIE ABOUT ROMNEY...</td>\n",
       "      <td>In case you missed it Sen. Harry Reid (R-NV), ...</td>\n",
       "      <td>left-news</td>\n",
       "      <td>2015-03-31</td>\n",
       "      <td>2015</td>\n",
       "    </tr>\n",
       "    <tr>\n",
       "      <th>14343</th>\n",
       "      <td>HILLARY RODHAM NIXON: A CANDIDATE WITH MORE BA...</td>\n",
       "      <td>The irony here isn t lost on us. Hillary is be...</td>\n",
       "      <td>politics</td>\n",
       "      <td>2015-03-31</td>\n",
       "      <td>2015</td>\n",
       "    </tr>\n",
       "    <tr>\n",
       "      <th>14344</th>\n",
       "      <td>FLASHBACK: KING OBAMA COMMUTES SENTENCES OF 22...</td>\n",
       "      <td>Just making room for Hillary President Obama t...</td>\n",
       "      <td>politics</td>\n",
       "      <td>2015-03-31</td>\n",
       "      <td>2015</td>\n",
       "    </tr>\n",
       "    <tr>\n",
       "      <th>14345</th>\n",
       "      <td>APPLE’S CEO SAYS RELIGIOUS FREEDOM LAWS ARE ‘D...</td>\n",
       "      <td>The gay mafia has a new corporate  Don. This i...</td>\n",
       "      <td>politics</td>\n",
       "      <td>2015-03-31</td>\n",
       "      <td>2015</td>\n",
       "    </tr>\n",
       "  </tbody>\n",
       "</table>\n",
       "</div>"
      ],
      "text/plain": [
       "                                                   title  \\\n",
       "14341  HILLARY RODHAM NIXON: A CANDIDATE WITH MORE BA...   \n",
       "14342  WATCH DIRTY HARRY REID ON HIS LIE ABOUT ROMNEY...   \n",
       "14343  HILLARY RODHAM NIXON: A CANDIDATE WITH MORE BA...   \n",
       "14344  FLASHBACK: KING OBAMA COMMUTES SENTENCES OF 22...   \n",
       "14345  APPLE’S CEO SAYS RELIGIOUS FREEDOM LAWS ARE ‘D...   \n",
       "\n",
       "                                                    text    subject  \\\n",
       "14341  The irony here isn t lost on us. Hillary is be...  left-news   \n",
       "14342  In case you missed it Sen. Harry Reid (R-NV), ...  left-news   \n",
       "14343  The irony here isn t lost on us. Hillary is be...   politics   \n",
       "14344  Just making room for Hillary President Obama t...   politics   \n",
       "14345  The gay mafia has a new corporate  Don. This i...   politics   \n",
       "\n",
       "            date  year  \n",
       "14341 2015-03-31  2015  \n",
       "14342 2015-03-31  2015  \n",
       "14343 2015-03-31  2015  \n",
       "14344 2015-03-31  2015  \n",
       "14345 2015-03-31  2015  "
      ]
     },
     "execution_count": 20,
     "metadata": {},
     "output_type": "execute_result"
    }
   ],
   "source": [
    "fake_news_df.head(5)"
   ]
  },
  {
   "cell_type": "code",
   "execution_count": 21,
   "id": "cbf392af-a631-427f-ae42-3bd730a46d6c",
   "metadata": {},
   "outputs": [],
   "source": [
    "# Save clean dataset - commented out\n",
    "#fake_news_df.to_csv('data/clean-datasets/fake_news.csv', index=False)"
   ]
  },
  {
   "cell_type": "markdown",
   "id": "5706dcc6-1010-4d8d-bdc9-075674486020",
   "metadata": {},
   "source": [
    "## True News - Data Exploration"
   ]
  },
  {
   "cell_type": "code",
   "execution_count": 22,
   "id": "950652b9-01f1-4851-ab2b-f7f488ca5659",
   "metadata": {},
   "outputs": [
    {
     "name": "stdout",
     "output_type": "stream",
     "text": [
      "<class 'pandas.core.frame.DataFrame'>\n",
      "RangeIndex: 21417 entries, 0 to 21416\n",
      "Data columns (total 4 columns):\n",
      " #   Column   Non-Null Count  Dtype \n",
      "---  ------   --------------  ----- \n",
      " 0   title    21417 non-null  object\n",
      " 1   text     21417 non-null  object\n",
      " 2   subject  21417 non-null  object\n",
      " 3   date     21417 non-null  object\n",
      "dtypes: object(4)\n",
      "memory usage: 669.4+ KB\n"
     ]
    }
   ],
   "source": [
    "true_news.info()"
   ]
  },
  {
   "cell_type": "code",
   "execution_count": 23,
   "id": "c04910b6-e1d9-42af-b732-3077bde4a2e9",
   "metadata": {},
   "outputs": [
    {
     "data": {
      "text/plain": [
       "(21417, 4)"
      ]
     },
     "execution_count": 23,
     "metadata": {},
     "output_type": "execute_result"
    }
   ],
   "source": [
    "true_news.shape"
   ]
  },
  {
   "cell_type": "code",
   "execution_count": 24,
   "id": "bb1bb4dc-ae07-4ecb-a07d-070d3434cd74",
   "metadata": {},
   "outputs": [
    {
     "data": {
      "text/plain": [
       "title      0\n",
       "text       0\n",
       "subject    0\n",
       "date       0\n",
       "dtype: int64"
      ]
     },
     "execution_count": 24,
     "metadata": {},
     "output_type": "execute_result"
    }
   ],
   "source": [
    "true_news.isnull().sum()"
   ]
  },
  {
   "cell_type": "code",
   "execution_count": 25,
   "id": "ef89de8e-c1bf-4d4c-ad1c-50790e382c97",
   "metadata": {},
   "outputs": [],
   "source": [
    "# If null values were found in dataset - dropna would of been used \n",
    "# true_news.dropna(inplace=True)"
   ]
  },
  {
   "cell_type": "code",
   "execution_count": 26,
   "id": "4ca92442-9cd2-45e8-a88e-269e4f124392",
   "metadata": {},
   "outputs": [],
   "source": [
    "# Sort by date column\n",
    "true_news = true_news.sort_values(by=\"date\")"
   ]
  },
  {
   "cell_type": "code",
   "execution_count": 27,
   "id": "f6b61889-6162-4d51-af4c-7c7bf92974e9",
   "metadata": {},
   "outputs": [
    {
     "data": {
      "text/html": [
       "<div>\n",
       "<style scoped>\n",
       "    .dataframe tbody tr th:only-of-type {\n",
       "        vertical-align: middle;\n",
       "    }\n",
       "\n",
       "    .dataframe tbody tr th {\n",
       "        vertical-align: top;\n",
       "    }\n",
       "\n",
       "    .dataframe thead th {\n",
       "        text-align: right;\n",
       "    }\n",
       "</style>\n",
       "<table border=\"1\" class=\"dataframe\">\n",
       "  <thead>\n",
       "    <tr style=\"text-align: right;\">\n",
       "      <th></th>\n",
       "      <th>title</th>\n",
       "      <th>text</th>\n",
       "      <th>subject</th>\n",
       "      <th>date</th>\n",
       "    </tr>\n",
       "  </thead>\n",
       "  <tbody>\n",
       "    <tr>\n",
       "      <th>10099</th>\n",
       "      <td>Trump sued in Kentucky by three who say he inc...</td>\n",
       "      <td>LOUISVILLE, Ky. (Reuters) - Three people who c...</td>\n",
       "      <td>politicsNews</td>\n",
       "      <td>April 1, 2016</td>\n",
       "    </tr>\n",
       "    <tr>\n",
       "      <th>10019</th>\n",
       "      <td>In record year for political ads, media buyers...</td>\n",
       "      <td>(Reuters) - Media buyers expect record politic...</td>\n",
       "      <td>politicsNews</td>\n",
       "      <td>April 1, 2016</td>\n",
       "    </tr>\n",
       "    <tr>\n",
       "      <th>10020</th>\n",
       "      <td>Obama, Republicans urge Trump to soften tone</td>\n",
       "      <td>WASHINGTON (Reuters) - Donald Trump is facing ...</td>\n",
       "      <td>politicsNews</td>\n",
       "      <td>April 1, 2016</td>\n",
       "    </tr>\n",
       "    <tr>\n",
       "      <th>10092</th>\n",
       "      <td>State Department says halts review of Clinton ...</td>\n",
       "      <td>WASHINGTON (Reuters) - The U.S. State Departme...</td>\n",
       "      <td>politicsNews</td>\n",
       "      <td>April 1, 2016</td>\n",
       "    </tr>\n",
       "    <tr>\n",
       "      <th>10094</th>\n",
       "      <td>Obama: Trump doesn't know much about foreign p...</td>\n",
       "      <td>WASHINGTON (Reuters) - U.S. President Barack O...</td>\n",
       "      <td>politicsNews</td>\n",
       "      <td>April 1, 2016</td>\n",
       "    </tr>\n",
       "    <tr>\n",
       "      <th>...</th>\n",
       "      <td>...</td>\n",
       "      <td>...</td>\n",
       "      <td>...</td>\n",
       "      <td>...</td>\n",
       "    </tr>\n",
       "    <tr>\n",
       "      <th>20543</th>\n",
       "      <td>Togo must introduce two-term limit swiftly to ...</td>\n",
       "      <td>DAKAR (Reuters) - Togo must go the way of othe...</td>\n",
       "      <td>worldnews</td>\n",
       "      <td>September 9, 2017</td>\n",
       "    </tr>\n",
       "    <tr>\n",
       "      <th>20542</th>\n",
       "      <td>Turkey cautions citizens about travel to 'anti...</td>\n",
       "      <td>ANKARA (Reuters) - Turkey cautioned its citize...</td>\n",
       "      <td>worldnews</td>\n",
       "      <td>September 9, 2017</td>\n",
       "    </tr>\n",
       "    <tr>\n",
       "      <th>20540</th>\n",
       "      <td>German minister urges EU to standardize asylum...</td>\n",
       "      <td>BERLIN (Reuters) - Social benefits for asylum ...</td>\n",
       "      <td>worldnews</td>\n",
       "      <td>September 9, 2017</td>\n",
       "    </tr>\n",
       "    <tr>\n",
       "      <th>20555</th>\n",
       "      <td>Red Cross says staff member killed in South Su...</td>\n",
       "      <td>JUBA (Reuters) - The International Committee o...</td>\n",
       "      <td>worldnews</td>\n",
       "      <td>September 9, 2017</td>\n",
       "    </tr>\n",
       "    <tr>\n",
       "      <th>20549</th>\n",
       "      <td>Singapore decried for 'harassment' of anti-dea...</td>\n",
       "      <td>SINGAPORE (Reuters) - Singapore should end har...</td>\n",
       "      <td>worldnews</td>\n",
       "      <td>September 9, 2017</td>\n",
       "    </tr>\n",
       "  </tbody>\n",
       "</table>\n",
       "<p>21417 rows × 4 columns</p>\n",
       "</div>"
      ],
      "text/plain": [
       "                                                   title  \\\n",
       "10099  Trump sued in Kentucky by three who say he inc...   \n",
       "10019  In record year for political ads, media buyers...   \n",
       "10020       Obama, Republicans urge Trump to soften tone   \n",
       "10092  State Department says halts review of Clinton ...   \n",
       "10094  Obama: Trump doesn't know much about foreign p...   \n",
       "...                                                  ...   \n",
       "20543  Togo must introduce two-term limit swiftly to ...   \n",
       "20542  Turkey cautions citizens about travel to 'anti...   \n",
       "20540  German minister urges EU to standardize asylum...   \n",
       "20555  Red Cross says staff member killed in South Su...   \n",
       "20549  Singapore decried for 'harassment' of anti-dea...   \n",
       "\n",
       "                                                    text       subject  \\\n",
       "10099  LOUISVILLE, Ky. (Reuters) - Three people who c...  politicsNews   \n",
       "10019  (Reuters) - Media buyers expect record politic...  politicsNews   \n",
       "10020  WASHINGTON (Reuters) - Donald Trump is facing ...  politicsNews   \n",
       "10092  WASHINGTON (Reuters) - The U.S. State Departme...  politicsNews   \n",
       "10094  WASHINGTON (Reuters) - U.S. President Barack O...  politicsNews   \n",
       "...                                                  ...           ...   \n",
       "20543  DAKAR (Reuters) - Togo must go the way of othe...     worldnews   \n",
       "20542  ANKARA (Reuters) - Turkey cautioned its citize...     worldnews   \n",
       "20540  BERLIN (Reuters) - Social benefits for asylum ...     worldnews   \n",
       "20555  JUBA (Reuters) - The International Committee o...     worldnews   \n",
       "20549  SINGAPORE (Reuters) - Singapore should end har...     worldnews   \n",
       "\n",
       "                     date  \n",
       "10099      April 1, 2016   \n",
       "10019      April 1, 2016   \n",
       "10020      April 1, 2016   \n",
       "10092      April 1, 2016   \n",
       "10094      April 1, 2016   \n",
       "...                   ...  \n",
       "20543  September 9, 2017   \n",
       "20542  September 9, 2017   \n",
       "20540  September 9, 2017   \n",
       "20555  September 9, 2017   \n",
       "20549  September 9, 2017   \n",
       "\n",
       "[21417 rows x 4 columns]"
      ]
     },
     "execution_count": 27,
     "metadata": {},
     "output_type": "execute_result"
    }
   ],
   "source": [
    "true_news"
   ]
  },
  {
   "cell_type": "code",
   "execution_count": 28,
   "id": "81d239df-2042-41b8-87f4-9c9ef55c1992",
   "metadata": {},
   "outputs": [],
   "source": [
    "# Format date column\n",
    "true_news[\"date\"]=pd.to_datetime(true_news[\"date\"])"
   ]
  },
  {
   "cell_type": "code",
   "execution_count": 29,
   "id": "db28a46a-598c-4e78-b538-aa29ef11ac9f",
   "metadata": {},
   "outputs": [
    {
     "data": {
      "text/html": [
       "<div>\n",
       "<style scoped>\n",
       "    .dataframe tbody tr th:only-of-type {\n",
       "        vertical-align: middle;\n",
       "    }\n",
       "\n",
       "    .dataframe tbody tr th {\n",
       "        vertical-align: top;\n",
       "    }\n",
       "\n",
       "    .dataframe thead th {\n",
       "        text-align: right;\n",
       "    }\n",
       "</style>\n",
       "<table border=\"1\" class=\"dataframe\">\n",
       "  <thead>\n",
       "    <tr style=\"text-align: right;\">\n",
       "      <th></th>\n",
       "      <th>title</th>\n",
       "      <th>text</th>\n",
       "      <th>subject</th>\n",
       "      <th>date</th>\n",
       "    </tr>\n",
       "  </thead>\n",
       "  <tbody>\n",
       "    <tr>\n",
       "      <th>10099</th>\n",
       "      <td>Trump sued in Kentucky by three who say he inc...</td>\n",
       "      <td>LOUISVILLE, Ky. (Reuters) - Three people who c...</td>\n",
       "      <td>politicsNews</td>\n",
       "      <td>2016-04-01</td>\n",
       "    </tr>\n",
       "    <tr>\n",
       "      <th>10019</th>\n",
       "      <td>In record year for political ads, media buyers...</td>\n",
       "      <td>(Reuters) - Media buyers expect record politic...</td>\n",
       "      <td>politicsNews</td>\n",
       "      <td>2016-04-01</td>\n",
       "    </tr>\n",
       "    <tr>\n",
       "      <th>10020</th>\n",
       "      <td>Obama, Republicans urge Trump to soften tone</td>\n",
       "      <td>WASHINGTON (Reuters) - Donald Trump is facing ...</td>\n",
       "      <td>politicsNews</td>\n",
       "      <td>2016-04-01</td>\n",
       "    </tr>\n",
       "    <tr>\n",
       "      <th>10092</th>\n",
       "      <td>State Department says halts review of Clinton ...</td>\n",
       "      <td>WASHINGTON (Reuters) - The U.S. State Departme...</td>\n",
       "      <td>politicsNews</td>\n",
       "      <td>2016-04-01</td>\n",
       "    </tr>\n",
       "    <tr>\n",
       "      <th>10094</th>\n",
       "      <td>Obama: Trump doesn't know much about foreign p...</td>\n",
       "      <td>WASHINGTON (Reuters) - U.S. President Barack O...</td>\n",
       "      <td>politicsNews</td>\n",
       "      <td>2016-04-01</td>\n",
       "    </tr>\n",
       "  </tbody>\n",
       "</table>\n",
       "</div>"
      ],
      "text/plain": [
       "                                                   title  \\\n",
       "10099  Trump sued in Kentucky by three who say he inc...   \n",
       "10019  In record year for political ads, media buyers...   \n",
       "10020       Obama, Republicans urge Trump to soften tone   \n",
       "10092  State Department says halts review of Clinton ...   \n",
       "10094  Obama: Trump doesn't know much about foreign p...   \n",
       "\n",
       "                                                    text       subject  \\\n",
       "10099  LOUISVILLE, Ky. (Reuters) - Three people who c...  politicsNews   \n",
       "10019  (Reuters) - Media buyers expect record politic...  politicsNews   \n",
       "10020  WASHINGTON (Reuters) - Donald Trump is facing ...  politicsNews   \n",
       "10092  WASHINGTON (Reuters) - The U.S. State Departme...  politicsNews   \n",
       "10094  WASHINGTON (Reuters) - U.S. President Barack O...  politicsNews   \n",
       "\n",
       "            date  \n",
       "10099 2016-04-01  \n",
       "10019 2016-04-01  \n",
       "10020 2016-04-01  \n",
       "10092 2016-04-01  \n",
       "10094 2016-04-01  "
      ]
     },
     "execution_count": 29,
     "metadata": {},
     "output_type": "execute_result"
    }
   ],
   "source": [
    "# Preview date change\n",
    "true_news.head(5)"
   ]
  },
  {
   "cell_type": "code",
   "execution_count": 30,
   "id": "26721a83-b49b-408d-9456-cbe0009d9503",
   "metadata": {},
   "outputs": [
    {
     "data": {
      "text/plain": [
       "title              object\n",
       "text               object\n",
       "subject            object\n",
       "date       datetime64[ns]\n",
       "dtype: object"
      ]
     },
     "execution_count": 30,
     "metadata": {},
     "output_type": "execute_result"
    }
   ],
   "source": [
    "true_news.dtypes"
   ]
  },
  {
   "cell_type": "code",
   "execution_count": 31,
   "id": "4ef87e23-f574-43ab-9be3-4d45e76f646c",
   "metadata": {},
   "outputs": [],
   "source": [
    "# Split date column into year\n",
    "true_news['year'] = true_news['date'].dt.year"
   ]
  },
  {
   "cell_type": "code",
   "execution_count": 32,
   "id": "39e68342-c64d-47b9-96e3-ca6b9beb203c",
   "metadata": {},
   "outputs": [
    {
     "data": {
      "text/html": [
       "<div>\n",
       "<style scoped>\n",
       "    .dataframe tbody tr th:only-of-type {\n",
       "        vertical-align: middle;\n",
       "    }\n",
       "\n",
       "    .dataframe tbody tr th {\n",
       "        vertical-align: top;\n",
       "    }\n",
       "\n",
       "    .dataframe thead th {\n",
       "        text-align: right;\n",
       "    }\n",
       "</style>\n",
       "<table border=\"1\" class=\"dataframe\">\n",
       "  <thead>\n",
       "    <tr style=\"text-align: right;\">\n",
       "      <th></th>\n",
       "      <th>title</th>\n",
       "      <th>text</th>\n",
       "      <th>subject</th>\n",
       "      <th>date</th>\n",
       "      <th>year</th>\n",
       "    </tr>\n",
       "  </thead>\n",
       "  <tbody>\n",
       "    <tr>\n",
       "      <th>10099</th>\n",
       "      <td>Trump sued in Kentucky by three who say he inc...</td>\n",
       "      <td>LOUISVILLE, Ky. (Reuters) - Three people who c...</td>\n",
       "      <td>politicsNews</td>\n",
       "      <td>2016-04-01</td>\n",
       "      <td>2016</td>\n",
       "    </tr>\n",
       "    <tr>\n",
       "      <th>10019</th>\n",
       "      <td>In record year for political ads, media buyers...</td>\n",
       "      <td>(Reuters) - Media buyers expect record politic...</td>\n",
       "      <td>politicsNews</td>\n",
       "      <td>2016-04-01</td>\n",
       "      <td>2016</td>\n",
       "    </tr>\n",
       "    <tr>\n",
       "      <th>10020</th>\n",
       "      <td>Obama, Republicans urge Trump to soften tone</td>\n",
       "      <td>WASHINGTON (Reuters) - Donald Trump is facing ...</td>\n",
       "      <td>politicsNews</td>\n",
       "      <td>2016-04-01</td>\n",
       "      <td>2016</td>\n",
       "    </tr>\n",
       "    <tr>\n",
       "      <th>10092</th>\n",
       "      <td>State Department says halts review of Clinton ...</td>\n",
       "      <td>WASHINGTON (Reuters) - The U.S. State Departme...</td>\n",
       "      <td>politicsNews</td>\n",
       "      <td>2016-04-01</td>\n",
       "      <td>2016</td>\n",
       "    </tr>\n",
       "    <tr>\n",
       "      <th>10094</th>\n",
       "      <td>Obama: Trump doesn't know much about foreign p...</td>\n",
       "      <td>WASHINGTON (Reuters) - U.S. President Barack O...</td>\n",
       "      <td>politicsNews</td>\n",
       "      <td>2016-04-01</td>\n",
       "      <td>2016</td>\n",
       "    </tr>\n",
       "  </tbody>\n",
       "</table>\n",
       "</div>"
      ],
      "text/plain": [
       "                                                   title  \\\n",
       "10099  Trump sued in Kentucky by three who say he inc...   \n",
       "10019  In record year for political ads, media buyers...   \n",
       "10020       Obama, Republicans urge Trump to soften tone   \n",
       "10092  State Department says halts review of Clinton ...   \n",
       "10094  Obama: Trump doesn't know much about foreign p...   \n",
       "\n",
       "                                                    text       subject  \\\n",
       "10099  LOUISVILLE, Ky. (Reuters) - Three people who c...  politicsNews   \n",
       "10019  (Reuters) - Media buyers expect record politic...  politicsNews   \n",
       "10020  WASHINGTON (Reuters) - Donald Trump is facing ...  politicsNews   \n",
       "10092  WASHINGTON (Reuters) - The U.S. State Departme...  politicsNews   \n",
       "10094  WASHINGTON (Reuters) - U.S. President Barack O...  politicsNews   \n",
       "\n",
       "            date  year  \n",
       "10099 2016-04-01  2016  \n",
       "10019 2016-04-01  2016  \n",
       "10020 2016-04-01  2016  \n",
       "10092 2016-04-01  2016  \n",
       "10094 2016-04-01  2016  "
      ]
     },
     "execution_count": 32,
     "metadata": {},
     "output_type": "execute_result"
    }
   ],
   "source": [
    "true_news.head(5)"
   ]
  },
  {
   "cell_type": "code",
   "execution_count": 33,
   "id": "7f915aef-82da-45f2-8eaf-94d6785e8778",
   "metadata": {},
   "outputs": [],
   "source": [
    "# Save clean dataset - commented out\n",
    "#true_news.to_csv('data/clean-datasets/true_news.csv', index=False)"
   ]
  }
 ],
 "metadata": {
  "kernelspec": {
   "display_name": "PythonData",
   "language": "python",
   "name": "pythondata"
  },
  "language_info": {
   "codemirror_mode": {
    "name": "ipython",
    "version": 3
   },
   "file_extension": ".py",
   "mimetype": "text/x-python",
   "name": "python",
   "nbconvert_exporter": "python",
   "pygments_lexer": "ipython3",
   "version": "3.7.13"
  }
 },
 "nbformat": 4,
 "nbformat_minor": 5
}
